{
 "cells": [
  {
   "cell_type": "markdown",
   "metadata": {},
   "source": [
    "pip install selenium\n",
    "pip install webdriver-manager\n",
    "\n",
    "Exemplos com e sem senha, para exemplificar a aplicabilidade da ferramenta Selenium \n"
   ]
  },
  {
   "cell_type": "code",
   "execution_count": 19,
   "metadata": {},
   "outputs": [],
   "source": [
    "from selenium import webdriver\n",
    "\n",
    "navegador=webdriver.Chrome()\n",
    "\n",
    "navegador.get(r\"https://br.linkedin.com/\")"
   ]
  },
  {
   "cell_type": "code",
   "execution_count": 20,
   "metadata": {},
   "outputs": [],
   "source": [
    "from selenium.webdriver.common.by import By\n",
    "\n",
    "navegador.find_element(By.ID, \"session_key\").send_keys('nathaly.felix@outlook.com.br')\n",
    "navegador.find_element(By.ID, 'session_password').send_keys('')\n",
    "navegador.find_element(By.CLASS_NAME, \"sign-in-form__submit-btn--full-width\").click()  "
   ]
  },
  {
   "cell_type": "markdown",
   "metadata": {},
   "source": [
    "Acesso ao Mini Curso Hashtag"
   ]
  },
  {
   "cell_type": "code",
   "execution_count": 5,
   "metadata": {},
   "outputs": [],
   "source": [
    "from selenium import webdriver\n",
    "\n",
    "navegador=webdriver.Chrome()\n",
    "\n",
    "navegador.get(r\"https://www.hashtagtreinamentos.com/\")"
   ]
  },
  {
   "cell_type": "code",
   "execution_count": 6,
   "metadata": {},
   "outputs": [],
   "source": [
    "from selenium.webdriver.common.by import By\n",
    "\n",
    "campo_nome = navegador.find_element(By.ID, 'firstname')\n",
    "campo_nome.send_keys('Nathaly')\n",
    "#qualquer um dos formatos funcionam\n",
    "navegador.find_element(By.ID, \"email\").send_keys('pythonimpressionador@gmail.com')\n",
    "navegador.find_element(By.CLASS_NAME, \"botao-formulario\").click() "
   ]
  }
 ],
 "metadata": {
  "kernelspec": {
   "display_name": "Python 3",
   "language": "python",
   "name": "python3"
  },
  "language_info": {
   "codemirror_mode": {
    "name": "ipython",
    "version": 3
   },
   "file_extension": ".py",
   "mimetype": "text/x-python",
   "name": "python",
   "nbconvert_exporter": "python",
   "pygments_lexer": "ipython3",
   "version": "3.11.7"
  }
 },
 "nbformat": 4,
 "nbformat_minor": 2
}
